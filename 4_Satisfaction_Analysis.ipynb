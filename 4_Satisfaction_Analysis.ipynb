{
 "cells": [
  {
   "cell_type": "code",
   "execution_count": 1,
   "id": "b1923243",
   "metadata": {},
   "outputs": [],
   "source": [
    "#Import Libraries:"
   ]
  },
  {
   "cell_type": "code",
   "execution_count": 2,
   "id": "73073d72",
   "metadata": {},
   "outputs": [],
   "source": [
    "import pandas as pd\n",
    "import numpy as np\n",
    "import seaborn as sns\n",
    "import matplotlib.pyplot as plt\n",
    "import warnings\n",
    "from sklearn.preprocessing import StandardScaler\n",
    "from sklearn.cluster import KMeans\n",
    "from scipy.spatial.distance import cdist"
   ]
  },
  {
   "cell_type": "markdown",
   "id": "ce99522d",
   "metadata": {},
   "source": [
    "# Loading the dataset “featured_telcom_data.xlsx”:"
   ]
  },
  {
   "cell_type": "code",
   "execution_count": 4,
   "id": "bf951b78",
   "metadata": {},
   "outputs": [],
   "source": [
    "featured_data=pd.read_csv(\"featured_telcom_data.csv\")"
   ]
  },
  {
   "cell_type": "code",
   "execution_count": 6,
   "id": "c7c8bfff",
   "metadata": {},
   "outputs": [
    {
     "data": {
      "text/html": [
       "<div>\n",
       "<style scoped>\n",
       "    .dataframe tbody tr th:only-of-type {\n",
       "        vertical-align: middle;\n",
       "    }\n",
       "\n",
       "    .dataframe tbody tr th {\n",
       "        vertical-align: top;\n",
       "    }\n",
       "\n",
       "    .dataframe thead th {\n",
       "        text-align: right;\n",
       "    }\n",
       "</style>\n",
       "<table border=\"1\" class=\"dataframe\">\n",
       "  <thead>\n",
       "    <tr style=\"text-align: right;\">\n",
       "      <th></th>\n",
       "      <th>Unnamed: 0.1</th>\n",
       "      <th>Unnamed: 0</th>\n",
       "      <th>Bearer Id</th>\n",
       "      <th>Start</th>\n",
       "      <th>Start ms</th>\n",
       "      <th>End</th>\n",
       "      <th>End ms</th>\n",
       "      <th>Dur. (ms)</th>\n",
       "      <th>IMSI</th>\n",
       "      <th>MSISDN/Number</th>\n",
       "      <th>...</th>\n",
       "      <th>Email DL (Bytes) Total</th>\n",
       "      <th>Email UL (Bytes) Total</th>\n",
       "      <th>Youtube DL (Bytes) Total</th>\n",
       "      <th>Youtube UL (Bytes) Total</th>\n",
       "      <th>Netflix DL (Bytes) Total</th>\n",
       "      <th>Netflix UL (Bytes) Total</th>\n",
       "      <th>Gaming DL (Bytes) Total</th>\n",
       "      <th>Gaming UL (Bytes) Total</th>\n",
       "      <th>Other DL (Bytes) Total</th>\n",
       "      <th>Other UL (Bytes) Total</th>\n",
       "    </tr>\n",
       "  </thead>\n",
       "  <tbody>\n",
       "    <tr>\n",
       "      <th>0</th>\n",
       "      <td>0</td>\n",
       "      <td>0</td>\n",
       "      <td>1.311450e+19</td>\n",
       "      <td>4/4/19 12:01</td>\n",
       "      <td>770.0</td>\n",
       "      <td>4/25/19 14:35</td>\n",
       "      <td>662.0</td>\n",
       "      <td>1823652.0</td>\n",
       "      <td>2.082014e+14</td>\n",
       "      <td>3.366496e+10</td>\n",
       "      <td>...</td>\n",
       "      <td>3563542.000</td>\n",
       "      <td>137762.0000</td>\n",
       "      <td>15854611.0</td>\n",
       "      <td>2501332.00</td>\n",
       "      <td>8198936.00</td>\n",
       "      <td>9656251.00</td>\n",
       "      <td>278082303.0</td>\n",
       "      <td>1.434415e+07</td>\n",
       "      <td>171744450.0</td>\n",
       "      <td>8.814393e+06</td>\n",
       "    </tr>\n",
       "    <tr>\n",
       "      <th>1</th>\n",
       "      <td>1</td>\n",
       "      <td>1</td>\n",
       "      <td>1.311450e+19</td>\n",
       "      <td>4/9/19 13:04</td>\n",
       "      <td>235.0</td>\n",
       "      <td>4/25/19 8:15</td>\n",
       "      <td>606.0</td>\n",
       "      <td>1365104.0</td>\n",
       "      <td>2.082019e+14</td>\n",
       "      <td>3.368185e+10</td>\n",
       "      <td>...</td>\n",
       "      <td>629046.000</td>\n",
       "      <td>308339.0000</td>\n",
       "      <td>20247395.0</td>\n",
       "      <td>19111729.00</td>\n",
       "      <td>18338413.00</td>\n",
       "      <td>17227132.00</td>\n",
       "      <td>608750074.0</td>\n",
       "      <td>1.170709e+06</td>\n",
       "      <td>526904238.0</td>\n",
       "      <td>1.505514e+07</td>\n",
       "    </tr>\n",
       "    <tr>\n",
       "      <th>2</th>\n",
       "      <td>2</td>\n",
       "      <td>2</td>\n",
       "      <td>1.311450e+19</td>\n",
       "      <td>4/9/19 17:42</td>\n",
       "      <td>1.0</td>\n",
       "      <td>4/25/19 11:58</td>\n",
       "      <td>652.0</td>\n",
       "      <td>1361762.0</td>\n",
       "      <td>2.082003e+14</td>\n",
       "      <td>3.376063e+10</td>\n",
       "      <td>...</td>\n",
       "      <td>2690151.000</td>\n",
       "      <td>672973.0000</td>\n",
       "      <td>19725661.0</td>\n",
       "      <td>14699576.00</td>\n",
       "      <td>17587794.00</td>\n",
       "      <td>6163408.00</td>\n",
       "      <td>229584621.0</td>\n",
       "      <td>3.956300e+05</td>\n",
       "      <td>410692588.0</td>\n",
       "      <td>4.215763e+06</td>\n",
       "    </tr>\n",
       "    <tr>\n",
       "      <th>3</th>\n",
       "      <td>3</td>\n",
       "      <td>3</td>\n",
       "      <td>1.311450e+19</td>\n",
       "      <td>4/10/19 0:31</td>\n",
       "      <td>486.0</td>\n",
       "      <td>4/25/19 7:36</td>\n",
       "      <td>171.0</td>\n",
       "      <td>1321509.0</td>\n",
       "      <td>2.082014e+14</td>\n",
       "      <td>3.375034e+10</td>\n",
       "      <td>...</td>\n",
       "      <td>1439754.000</td>\n",
       "      <td>631229.0000</td>\n",
       "      <td>21388122.0</td>\n",
       "      <td>15146643.00</td>\n",
       "      <td>13994646.00</td>\n",
       "      <td>1097942.00</td>\n",
       "      <td>799538153.0</td>\n",
       "      <td>1.084972e+07</td>\n",
       "      <td>749039933.0</td>\n",
       "      <td>1.279728e+07</td>\n",
       "    </tr>\n",
       "    <tr>\n",
       "      <th>4</th>\n",
       "      <td>4</td>\n",
       "      <td>4</td>\n",
       "      <td>1.311450e+19</td>\n",
       "      <td>4/12/19 20:10</td>\n",
       "      <td>565.0</td>\n",
       "      <td>4/25/19 10:40</td>\n",
       "      <td>954.0</td>\n",
       "      <td>1089009.0</td>\n",
       "      <td>2.082014e+14</td>\n",
       "      <td>3.369980e+10</td>\n",
       "      <td>...</td>\n",
       "      <td>1936496.000</td>\n",
       "      <td>173853.0000</td>\n",
       "      <td>15259380.0</td>\n",
       "      <td>18962873.00</td>\n",
       "      <td>17124581.00</td>\n",
       "      <td>415218.00</td>\n",
       "      <td>527707248.0</td>\n",
       "      <td>3.529801e+06</td>\n",
       "      <td>550709500.0</td>\n",
       "      <td>1.391032e+07</td>\n",
       "    </tr>\n",
       "    <tr>\n",
       "      <th>...</th>\n",
       "      <td>...</td>\n",
       "      <td>...</td>\n",
       "      <td>...</td>\n",
       "      <td>...</td>\n",
       "      <td>...</td>\n",
       "      <td>...</td>\n",
       "      <td>...</td>\n",
       "      <td>...</td>\n",
       "      <td>...</td>\n",
       "      <td>...</td>\n",
       "      <td>...</td>\n",
       "      <td>...</td>\n",
       "      <td>...</td>\n",
       "      <td>...</td>\n",
       "      <td>...</td>\n",
       "      <td>...</td>\n",
       "      <td>...</td>\n",
       "      <td>...</td>\n",
       "      <td>...</td>\n",
       "      <td>...</td>\n",
       "      <td>...</td>\n",
       "    </tr>\n",
       "    <tr>\n",
       "      <th>149996</th>\n",
       "      <td>149996</td>\n",
       "      <td>149996</td>\n",
       "      <td>7.277830e+18</td>\n",
       "      <td>4/29/19 7:28</td>\n",
       "      <td>451.0</td>\n",
       "      <td>4/30/19 6:02</td>\n",
       "      <td>214.0</td>\n",
       "      <td>81230.0</td>\n",
       "      <td>2.082022e+14</td>\n",
       "      <td>3.365069e+10</td>\n",
       "      <td>...</td>\n",
       "      <td>57639.000</td>\n",
       "      <td>633237.0000</td>\n",
       "      <td>16191667.0</td>\n",
       "      <td>11763428.00</td>\n",
       "      <td>17883703.00</td>\n",
       "      <td>19678161.00</td>\n",
       "      <td>526609673.0</td>\n",
       "      <td>9.197207e+06</td>\n",
       "      <td>3264510.0</td>\n",
       "      <td>1.348742e+07</td>\n",
       "    </tr>\n",
       "    <tr>\n",
       "      <th>149997</th>\n",
       "      <td>149997</td>\n",
       "      <td>149997</td>\n",
       "      <td>7.349880e+18</td>\n",
       "      <td>4/29/19 7:28</td>\n",
       "      <td>483.0</td>\n",
       "      <td>4/30/19 10:41</td>\n",
       "      <td>187.0</td>\n",
       "      <td>97970.0</td>\n",
       "      <td>2.082019e+14</td>\n",
       "      <td>3.366345e+10</td>\n",
       "      <td>...</td>\n",
       "      <td>1954414.000</td>\n",
       "      <td>167304.0000</td>\n",
       "      <td>13877234.0</td>\n",
       "      <td>8288284.00</td>\n",
       "      <td>19350146.00</td>\n",
       "      <td>21293148.00</td>\n",
       "      <td>626893062.0</td>\n",
       "      <td>4.735033e+06</td>\n",
       "      <td>712180387.0</td>\n",
       "      <td>2.457758e+06</td>\n",
       "    </tr>\n",
       "    <tr>\n",
       "      <th>149998</th>\n",
       "      <td>149998</td>\n",
       "      <td>149998</td>\n",
       "      <td>1.311450e+19</td>\n",
       "      <td>4/29/19 7:28</td>\n",
       "      <td>283.0</td>\n",
       "      <td>4/30/19 10:46</td>\n",
       "      <td>810.0</td>\n",
       "      <td>98249.0</td>\n",
       "      <td>2.082017e+14</td>\n",
       "      <td>3.362189e+10</td>\n",
       "      <td>...</td>\n",
       "      <td>1525734.000</td>\n",
       "      <td>532543.0000</td>\n",
       "      <td>22660510.0</td>\n",
       "      <td>1855903.00</td>\n",
       "      <td>9963942.00</td>\n",
       "      <td>5065760.00</td>\n",
       "      <td>553539484.0</td>\n",
       "      <td>1.339432e+07</td>\n",
       "      <td>121100856.0</td>\n",
       "      <td>1.131473e+07</td>\n",
       "    </tr>\n",
       "    <tr>\n",
       "      <th>149999</th>\n",
       "      <td>149999</td>\n",
       "      <td>149999</td>\n",
       "      <td>1.311450e+19</td>\n",
       "      <td>4/29/19 7:28</td>\n",
       "      <td>696.0</td>\n",
       "      <td>4/30/19 10:40</td>\n",
       "      <td>327.0</td>\n",
       "      <td>97910.0</td>\n",
       "      <td>2.082021e+14</td>\n",
       "      <td>3.361962e+10</td>\n",
       "      <td>...</td>\n",
       "      <td>2228270.000</td>\n",
       "      <td>622644.0000</td>\n",
       "      <td>8817106.0</td>\n",
       "      <td>8305402.00</td>\n",
       "      <td>3322253.00</td>\n",
       "      <td>13172589.00</td>\n",
       "      <td>352536971.0</td>\n",
       "      <td>2.529475e+06</td>\n",
       "      <td>814713113.0</td>\n",
       "      <td>1.406930e+06</td>\n",
       "    </tr>\n",
       "    <tr>\n",
       "      <th>150000</th>\n",
       "      <td>150000</td>\n",
       "      <td>150000</td>\n",
       "      <td>7.349880e+18</td>\n",
       "      <td>Unknown</td>\n",
       "      <td>499.0</td>\n",
       "      <td>Unknown</td>\n",
       "      <td>500.0</td>\n",
       "      <td>86399.0</td>\n",
       "      <td>2.082015e+14</td>\n",
       "      <td>3.366371e+10</td>\n",
       "      <td>...</td>\n",
       "      <td>1791728.868</td>\n",
       "      <td>467373.4419</td>\n",
       "      <td>11634072.5</td>\n",
       "      <td>11009410.13</td>\n",
       "      <td>11626851.72</td>\n",
       "      <td>11001754.82</td>\n",
       "      <td>422044702.6</td>\n",
       "      <td>8.288398e+06</td>\n",
       "      <td>421100544.2</td>\n",
       "      <td>8.264799e+06</td>\n",
       "    </tr>\n",
       "  </tbody>\n",
       "</table>\n",
       "<p>150001 rows × 72 columns</p>\n",
       "</div>"
      ],
      "text/plain": [
       "        Unnamed: 0.1  Unnamed: 0     Bearer Id          Start  Start ms  \\\n",
       "0                  0           0  1.311450e+19   4/4/19 12:01     770.0   \n",
       "1                  1           1  1.311450e+19   4/9/19 13:04     235.0   \n",
       "2                  2           2  1.311450e+19   4/9/19 17:42       1.0   \n",
       "3                  3           3  1.311450e+19   4/10/19 0:31     486.0   \n",
       "4                  4           4  1.311450e+19  4/12/19 20:10     565.0   \n",
       "...              ...         ...           ...            ...       ...   \n",
       "149996        149996      149996  7.277830e+18   4/29/19 7:28     451.0   \n",
       "149997        149997      149997  7.349880e+18   4/29/19 7:28     483.0   \n",
       "149998        149998      149998  1.311450e+19   4/29/19 7:28     283.0   \n",
       "149999        149999      149999  1.311450e+19   4/29/19 7:28     696.0   \n",
       "150000        150000      150000  7.349880e+18        Unknown     499.0   \n",
       "\n",
       "                  End  End ms  Dur. (ms)          IMSI  MSISDN/Number  ...  \\\n",
       "0       4/25/19 14:35   662.0  1823652.0  2.082014e+14   3.366496e+10  ...   \n",
       "1        4/25/19 8:15   606.0  1365104.0  2.082019e+14   3.368185e+10  ...   \n",
       "2       4/25/19 11:58   652.0  1361762.0  2.082003e+14   3.376063e+10  ...   \n",
       "3        4/25/19 7:36   171.0  1321509.0  2.082014e+14   3.375034e+10  ...   \n",
       "4       4/25/19 10:40   954.0  1089009.0  2.082014e+14   3.369980e+10  ...   \n",
       "...               ...     ...        ...           ...            ...  ...   \n",
       "149996   4/30/19 6:02   214.0    81230.0  2.082022e+14   3.365069e+10  ...   \n",
       "149997  4/30/19 10:41   187.0    97970.0  2.082019e+14   3.366345e+10  ...   \n",
       "149998  4/30/19 10:46   810.0    98249.0  2.082017e+14   3.362189e+10  ...   \n",
       "149999  4/30/19 10:40   327.0    97910.0  2.082021e+14   3.361962e+10  ...   \n",
       "150000        Unknown   500.0    86399.0  2.082015e+14   3.366371e+10  ...   \n",
       "\n",
       "        Email DL (Bytes) Total Email UL (Bytes) Total  \\\n",
       "0                  3563542.000            137762.0000   \n",
       "1                   629046.000            308339.0000   \n",
       "2                  2690151.000            672973.0000   \n",
       "3                  1439754.000            631229.0000   \n",
       "4                  1936496.000            173853.0000   \n",
       "...                        ...                    ...   \n",
       "149996               57639.000            633237.0000   \n",
       "149997             1954414.000            167304.0000   \n",
       "149998             1525734.000            532543.0000   \n",
       "149999             2228270.000            622644.0000   \n",
       "150000             1791728.868            467373.4419   \n",
       "\n",
       "        Youtube DL (Bytes) Total  Youtube UL (Bytes) Total  \\\n",
       "0                     15854611.0                2501332.00   \n",
       "1                     20247395.0               19111729.00   \n",
       "2                     19725661.0               14699576.00   \n",
       "3                     21388122.0               15146643.00   \n",
       "4                     15259380.0               18962873.00   \n",
       "...                          ...                       ...   \n",
       "149996                16191667.0               11763428.00   \n",
       "149997                13877234.0                8288284.00   \n",
       "149998                22660510.0                1855903.00   \n",
       "149999                 8817106.0                8305402.00   \n",
       "150000                11634072.5               11009410.13   \n",
       "\n",
       "        Netflix DL (Bytes) Total  Netflix UL (Bytes) Total  \\\n",
       "0                     8198936.00                9656251.00   \n",
       "1                    18338413.00               17227132.00   \n",
       "2                    17587794.00                6163408.00   \n",
       "3                    13994646.00                1097942.00   \n",
       "4                    17124581.00                 415218.00   \n",
       "...                          ...                       ...   \n",
       "149996               17883703.00               19678161.00   \n",
       "149997               19350146.00               21293148.00   \n",
       "149998                9963942.00                5065760.00   \n",
       "149999                3322253.00               13172589.00   \n",
       "150000               11626851.72               11001754.82   \n",
       "\n",
       "        Gaming DL (Bytes) Total  Gaming UL (Bytes) Total  \\\n",
       "0                   278082303.0             1.434415e+07   \n",
       "1                   608750074.0             1.170709e+06   \n",
       "2                   229584621.0             3.956300e+05   \n",
       "3                   799538153.0             1.084972e+07   \n",
       "4                   527707248.0             3.529801e+06   \n",
       "...                         ...                      ...   \n",
       "149996              526609673.0             9.197207e+06   \n",
       "149997              626893062.0             4.735033e+06   \n",
       "149998              553539484.0             1.339432e+07   \n",
       "149999              352536971.0             2.529475e+06   \n",
       "150000              422044702.6             8.288398e+06   \n",
       "\n",
       "        Other DL (Bytes) Total  Other UL (Bytes) Total  \n",
       "0                  171744450.0            8.814393e+06  \n",
       "1                  526904238.0            1.505514e+07  \n",
       "2                  410692588.0            4.215763e+06  \n",
       "3                  749039933.0            1.279728e+07  \n",
       "4                  550709500.0            1.391032e+07  \n",
       "...                        ...                     ...  \n",
       "149996               3264510.0            1.348742e+07  \n",
       "149997             712180387.0            2.457758e+06  \n",
       "149998             121100856.0            1.131473e+07  \n",
       "149999             814713113.0            1.406930e+06  \n",
       "150000             421100544.2            8.264799e+06  \n",
       "\n",
       "[150001 rows x 72 columns]"
      ]
     },
     "execution_count": 6,
     "metadata": {},
     "output_type": "execute_result"
    }
   ],
   "source": [
    "featured_data"
   ]
  },
  {
   "cell_type": "code",
   "execution_count": 8,
   "id": "67667edc",
   "metadata": {},
   "outputs": [
    {
     "data": {
      "text/html": [
       "<div>\n",
       "<style scoped>\n",
       "    .dataframe tbody tr th:only-of-type {\n",
       "        vertical-align: middle;\n",
       "    }\n",
       "\n",
       "    .dataframe tbody tr th {\n",
       "        vertical-align: top;\n",
       "    }\n",
       "\n",
       "    .dataframe thead th {\n",
       "        text-align: right;\n",
       "    }\n",
       "</style>\n",
       "<table border=\"1\" class=\"dataframe\">\n",
       "  <thead>\n",
       "    <tr style=\"text-align: right;\">\n",
       "      <th></th>\n",
       "      <th>Unnamed: 0.1</th>\n",
       "      <th>Unnamed: 0</th>\n",
       "      <th>Bearer Id</th>\n",
       "      <th>Start</th>\n",
       "      <th>Start ms</th>\n",
       "      <th>End</th>\n",
       "      <th>End ms</th>\n",
       "      <th>Dur. (ms)</th>\n",
       "      <th>IMSI</th>\n",
       "      <th>MSISDN/Number</th>\n",
       "      <th>...</th>\n",
       "      <th>Email DL (Bytes) Total</th>\n",
       "      <th>Email UL (Bytes) Total</th>\n",
       "      <th>Youtube DL (Bytes) Total</th>\n",
       "      <th>Youtube UL (Bytes) Total</th>\n",
       "      <th>Netflix DL (Bytes) Total</th>\n",
       "      <th>Netflix UL (Bytes) Total</th>\n",
       "      <th>Gaming DL (Bytes) Total</th>\n",
       "      <th>Gaming UL (Bytes) Total</th>\n",
       "      <th>Other DL (Bytes) Total</th>\n",
       "      <th>Other UL (Bytes) Total</th>\n",
       "    </tr>\n",
       "  </thead>\n",
       "  <tbody>\n",
       "    <tr>\n",
       "      <th>0</th>\n",
       "      <td>0</td>\n",
       "      <td>0</td>\n",
       "      <td>1.311450e+19</td>\n",
       "      <td>4/4/19 12:01</td>\n",
       "      <td>770.0</td>\n",
       "      <td>4/25/19 14:35</td>\n",
       "      <td>662.0</td>\n",
       "      <td>1823652.0</td>\n",
       "      <td>2.082014e+14</td>\n",
       "      <td>3.366496e+10</td>\n",
       "      <td>...</td>\n",
       "      <td>3563542.0</td>\n",
       "      <td>137762.0</td>\n",
       "      <td>15854611.0</td>\n",
       "      <td>2501332.0</td>\n",
       "      <td>8198936.0</td>\n",
       "      <td>9656251.0</td>\n",
       "      <td>278082303.0</td>\n",
       "      <td>14344150.0</td>\n",
       "      <td>171744450.0</td>\n",
       "      <td>8814393.0</td>\n",
       "    </tr>\n",
       "    <tr>\n",
       "      <th>1</th>\n",
       "      <td>1</td>\n",
       "      <td>1</td>\n",
       "      <td>1.311450e+19</td>\n",
       "      <td>4/9/19 13:04</td>\n",
       "      <td>235.0</td>\n",
       "      <td>4/25/19 8:15</td>\n",
       "      <td>606.0</td>\n",
       "      <td>1365104.0</td>\n",
       "      <td>2.082019e+14</td>\n",
       "      <td>3.368185e+10</td>\n",
       "      <td>...</td>\n",
       "      <td>629046.0</td>\n",
       "      <td>308339.0</td>\n",
       "      <td>20247395.0</td>\n",
       "      <td>19111729.0</td>\n",
       "      <td>18338413.0</td>\n",
       "      <td>17227132.0</td>\n",
       "      <td>608750074.0</td>\n",
       "      <td>1170709.0</td>\n",
       "      <td>526904238.0</td>\n",
       "      <td>15055145.0</td>\n",
       "    </tr>\n",
       "    <tr>\n",
       "      <th>2</th>\n",
       "      <td>2</td>\n",
       "      <td>2</td>\n",
       "      <td>1.311450e+19</td>\n",
       "      <td>4/9/19 17:42</td>\n",
       "      <td>1.0</td>\n",
       "      <td>4/25/19 11:58</td>\n",
       "      <td>652.0</td>\n",
       "      <td>1361762.0</td>\n",
       "      <td>2.082003e+14</td>\n",
       "      <td>3.376063e+10</td>\n",
       "      <td>...</td>\n",
       "      <td>2690151.0</td>\n",
       "      <td>672973.0</td>\n",
       "      <td>19725661.0</td>\n",
       "      <td>14699576.0</td>\n",
       "      <td>17587794.0</td>\n",
       "      <td>6163408.0</td>\n",
       "      <td>229584621.0</td>\n",
       "      <td>395630.0</td>\n",
       "      <td>410692588.0</td>\n",
       "      <td>4215763.0</td>\n",
       "    </tr>\n",
       "    <tr>\n",
       "      <th>3</th>\n",
       "      <td>3</td>\n",
       "      <td>3</td>\n",
       "      <td>1.311450e+19</td>\n",
       "      <td>4/10/19 0:31</td>\n",
       "      <td>486.0</td>\n",
       "      <td>4/25/19 7:36</td>\n",
       "      <td>171.0</td>\n",
       "      <td>1321509.0</td>\n",
       "      <td>2.082014e+14</td>\n",
       "      <td>3.375034e+10</td>\n",
       "      <td>...</td>\n",
       "      <td>1439754.0</td>\n",
       "      <td>631229.0</td>\n",
       "      <td>21388122.0</td>\n",
       "      <td>15146643.0</td>\n",
       "      <td>13994646.0</td>\n",
       "      <td>1097942.0</td>\n",
       "      <td>799538153.0</td>\n",
       "      <td>10849722.0</td>\n",
       "      <td>749039933.0</td>\n",
       "      <td>12797283.0</td>\n",
       "    </tr>\n",
       "    <tr>\n",
       "      <th>4</th>\n",
       "      <td>4</td>\n",
       "      <td>4</td>\n",
       "      <td>1.311450e+19</td>\n",
       "      <td>4/12/19 20:10</td>\n",
       "      <td>565.0</td>\n",
       "      <td>4/25/19 10:40</td>\n",
       "      <td>954.0</td>\n",
       "      <td>1089009.0</td>\n",
       "      <td>2.082014e+14</td>\n",
       "      <td>3.369980e+10</td>\n",
       "      <td>...</td>\n",
       "      <td>1936496.0</td>\n",
       "      <td>173853.0</td>\n",
       "      <td>15259380.0</td>\n",
       "      <td>18962873.0</td>\n",
       "      <td>17124581.0</td>\n",
       "      <td>415218.0</td>\n",
       "      <td>527707248.0</td>\n",
       "      <td>3529801.0</td>\n",
       "      <td>550709500.0</td>\n",
       "      <td>13910322.0</td>\n",
       "    </tr>\n",
       "  </tbody>\n",
       "</table>\n",
       "<p>5 rows × 72 columns</p>\n",
       "</div>"
      ],
      "text/plain": [
       "   Unnamed: 0.1  Unnamed: 0     Bearer Id          Start  Start ms  \\\n",
       "0             0           0  1.311450e+19   4/4/19 12:01     770.0   \n",
       "1             1           1  1.311450e+19   4/9/19 13:04     235.0   \n",
       "2             2           2  1.311450e+19   4/9/19 17:42       1.0   \n",
       "3             3           3  1.311450e+19   4/10/19 0:31     486.0   \n",
       "4             4           4  1.311450e+19  4/12/19 20:10     565.0   \n",
       "\n",
       "             End  End ms  Dur. (ms)          IMSI  MSISDN/Number  ...  \\\n",
       "0  4/25/19 14:35   662.0  1823652.0  2.082014e+14   3.366496e+10  ...   \n",
       "1   4/25/19 8:15   606.0  1365104.0  2.082019e+14   3.368185e+10  ...   \n",
       "2  4/25/19 11:58   652.0  1361762.0  2.082003e+14   3.376063e+10  ...   \n",
       "3   4/25/19 7:36   171.0  1321509.0  2.082014e+14   3.375034e+10  ...   \n",
       "4  4/25/19 10:40   954.0  1089009.0  2.082014e+14   3.369980e+10  ...   \n",
       "\n",
       "   Email DL (Bytes) Total Email UL (Bytes) Total  Youtube DL (Bytes) Total  \\\n",
       "0               3563542.0               137762.0                15854611.0   \n",
       "1                629046.0               308339.0                20247395.0   \n",
       "2               2690151.0               672973.0                19725661.0   \n",
       "3               1439754.0               631229.0                21388122.0   \n",
       "4               1936496.0               173853.0                15259380.0   \n",
       "\n",
       "   Youtube UL (Bytes) Total  Netflix DL (Bytes) Total  \\\n",
       "0                 2501332.0                 8198936.0   \n",
       "1                19111729.0                18338413.0   \n",
       "2                14699576.0                17587794.0   \n",
       "3                15146643.0                13994646.0   \n",
       "4                18962873.0                17124581.0   \n",
       "\n",
       "   Netflix UL (Bytes) Total  Gaming DL (Bytes) Total  Gaming UL (Bytes) Total  \\\n",
       "0                 9656251.0              278082303.0               14344150.0   \n",
       "1                17227132.0              608750074.0                1170709.0   \n",
       "2                 6163408.0              229584621.0                 395630.0   \n",
       "3                 1097942.0              799538153.0               10849722.0   \n",
       "4                  415218.0              527707248.0                3529801.0   \n",
       "\n",
       "   Other DL (Bytes) Total  Other UL (Bytes) Total  \n",
       "0             171744450.0               8814393.0  \n",
       "1             526904238.0              15055145.0  \n",
       "2             410692588.0               4215763.0  \n",
       "3             749039933.0              12797283.0  \n",
       "4             550709500.0              13910322.0  \n",
       "\n",
       "[5 rows x 72 columns]"
      ]
     },
     "execution_count": 8,
     "metadata": {},
     "output_type": "execute_result"
    }
   ],
   "source": [
    "featured_data.head()"
   ]
  },
  {
   "cell_type": "code",
   "execution_count": 10,
   "id": "e7876353",
   "metadata": {},
   "outputs": [
    {
     "data": {
      "text/html": [
       "<div>\n",
       "<style scoped>\n",
       "    .dataframe tbody tr th:only-of-type {\n",
       "        vertical-align: middle;\n",
       "    }\n",
       "\n",
       "    .dataframe tbody tr th {\n",
       "        vertical-align: top;\n",
       "    }\n",
       "\n",
       "    .dataframe thead th {\n",
       "        text-align: right;\n",
       "    }\n",
       "</style>\n",
       "<table border=\"1\" class=\"dataframe\">\n",
       "  <thead>\n",
       "    <tr style=\"text-align: right;\">\n",
       "      <th></th>\n",
       "      <th>Unnamed: 0.1</th>\n",
       "      <th>Unnamed: 0</th>\n",
       "      <th>Bearer Id</th>\n",
       "      <th>Start</th>\n",
       "      <th>Start ms</th>\n",
       "      <th>End</th>\n",
       "      <th>End ms</th>\n",
       "      <th>Dur. (ms)</th>\n",
       "      <th>IMSI</th>\n",
       "      <th>MSISDN/Number</th>\n",
       "      <th>...</th>\n",
       "      <th>Email DL (Bytes) Total</th>\n",
       "      <th>Email UL (Bytes) Total</th>\n",
       "      <th>Youtube DL (Bytes) Total</th>\n",
       "      <th>Youtube UL (Bytes) Total</th>\n",
       "      <th>Netflix DL (Bytes) Total</th>\n",
       "      <th>Netflix UL (Bytes) Total</th>\n",
       "      <th>Gaming DL (Bytes) Total</th>\n",
       "      <th>Gaming UL (Bytes) Total</th>\n",
       "      <th>Other DL (Bytes) Total</th>\n",
       "      <th>Other UL (Bytes) Total</th>\n",
       "    </tr>\n",
       "  </thead>\n",
       "  <tbody>\n",
       "    <tr>\n",
       "      <th>149996</th>\n",
       "      <td>149996</td>\n",
       "      <td>149996</td>\n",
       "      <td>7.277830e+18</td>\n",
       "      <td>4/29/19 7:28</td>\n",
       "      <td>451.0</td>\n",
       "      <td>4/30/19 6:02</td>\n",
       "      <td>214.0</td>\n",
       "      <td>81230.0</td>\n",
       "      <td>2.082022e+14</td>\n",
       "      <td>3.365069e+10</td>\n",
       "      <td>...</td>\n",
       "      <td>57639.000</td>\n",
       "      <td>633237.0000</td>\n",
       "      <td>16191667.0</td>\n",
       "      <td>11763428.00</td>\n",
       "      <td>17883703.00</td>\n",
       "      <td>19678161.00</td>\n",
       "      <td>526609673.0</td>\n",
       "      <td>9.197207e+06</td>\n",
       "      <td>3264510.0</td>\n",
       "      <td>1.348742e+07</td>\n",
       "    </tr>\n",
       "    <tr>\n",
       "      <th>149997</th>\n",
       "      <td>149997</td>\n",
       "      <td>149997</td>\n",
       "      <td>7.349880e+18</td>\n",
       "      <td>4/29/19 7:28</td>\n",
       "      <td>483.0</td>\n",
       "      <td>4/30/19 10:41</td>\n",
       "      <td>187.0</td>\n",
       "      <td>97970.0</td>\n",
       "      <td>2.082019e+14</td>\n",
       "      <td>3.366345e+10</td>\n",
       "      <td>...</td>\n",
       "      <td>1954414.000</td>\n",
       "      <td>167304.0000</td>\n",
       "      <td>13877234.0</td>\n",
       "      <td>8288284.00</td>\n",
       "      <td>19350146.00</td>\n",
       "      <td>21293148.00</td>\n",
       "      <td>626893062.0</td>\n",
       "      <td>4.735033e+06</td>\n",
       "      <td>712180387.0</td>\n",
       "      <td>2.457758e+06</td>\n",
       "    </tr>\n",
       "    <tr>\n",
       "      <th>149998</th>\n",
       "      <td>149998</td>\n",
       "      <td>149998</td>\n",
       "      <td>1.311450e+19</td>\n",
       "      <td>4/29/19 7:28</td>\n",
       "      <td>283.0</td>\n",
       "      <td>4/30/19 10:46</td>\n",
       "      <td>810.0</td>\n",
       "      <td>98249.0</td>\n",
       "      <td>2.082017e+14</td>\n",
       "      <td>3.362189e+10</td>\n",
       "      <td>...</td>\n",
       "      <td>1525734.000</td>\n",
       "      <td>532543.0000</td>\n",
       "      <td>22660510.0</td>\n",
       "      <td>1855903.00</td>\n",
       "      <td>9963942.00</td>\n",
       "      <td>5065760.00</td>\n",
       "      <td>553539484.0</td>\n",
       "      <td>1.339432e+07</td>\n",
       "      <td>121100856.0</td>\n",
       "      <td>1.131473e+07</td>\n",
       "    </tr>\n",
       "    <tr>\n",
       "      <th>149999</th>\n",
       "      <td>149999</td>\n",
       "      <td>149999</td>\n",
       "      <td>1.311450e+19</td>\n",
       "      <td>4/29/19 7:28</td>\n",
       "      <td>696.0</td>\n",
       "      <td>4/30/19 10:40</td>\n",
       "      <td>327.0</td>\n",
       "      <td>97910.0</td>\n",
       "      <td>2.082021e+14</td>\n",
       "      <td>3.361962e+10</td>\n",
       "      <td>...</td>\n",
       "      <td>2228270.000</td>\n",
       "      <td>622644.0000</td>\n",
       "      <td>8817106.0</td>\n",
       "      <td>8305402.00</td>\n",
       "      <td>3322253.00</td>\n",
       "      <td>13172589.00</td>\n",
       "      <td>352536971.0</td>\n",
       "      <td>2.529475e+06</td>\n",
       "      <td>814713113.0</td>\n",
       "      <td>1.406930e+06</td>\n",
       "    </tr>\n",
       "    <tr>\n",
       "      <th>150000</th>\n",
       "      <td>150000</td>\n",
       "      <td>150000</td>\n",
       "      <td>7.349880e+18</td>\n",
       "      <td>Unknown</td>\n",
       "      <td>499.0</td>\n",
       "      <td>Unknown</td>\n",
       "      <td>500.0</td>\n",
       "      <td>86399.0</td>\n",
       "      <td>2.082015e+14</td>\n",
       "      <td>3.366371e+10</td>\n",
       "      <td>...</td>\n",
       "      <td>1791728.868</td>\n",
       "      <td>467373.4419</td>\n",
       "      <td>11634072.5</td>\n",
       "      <td>11009410.13</td>\n",
       "      <td>11626851.72</td>\n",
       "      <td>11001754.82</td>\n",
       "      <td>422044702.6</td>\n",
       "      <td>8.288398e+06</td>\n",
       "      <td>421100544.2</td>\n",
       "      <td>8.264799e+06</td>\n",
       "    </tr>\n",
       "  </tbody>\n",
       "</table>\n",
       "<p>5 rows × 72 columns</p>\n",
       "</div>"
      ],
      "text/plain": [
       "        Unnamed: 0.1  Unnamed: 0     Bearer Id         Start  Start ms  \\\n",
       "149996        149996      149996  7.277830e+18  4/29/19 7:28     451.0   \n",
       "149997        149997      149997  7.349880e+18  4/29/19 7:28     483.0   \n",
       "149998        149998      149998  1.311450e+19  4/29/19 7:28     283.0   \n",
       "149999        149999      149999  1.311450e+19  4/29/19 7:28     696.0   \n",
       "150000        150000      150000  7.349880e+18       Unknown     499.0   \n",
       "\n",
       "                  End  End ms  Dur. (ms)          IMSI  MSISDN/Number  ...  \\\n",
       "149996   4/30/19 6:02   214.0    81230.0  2.082022e+14   3.365069e+10  ...   \n",
       "149997  4/30/19 10:41   187.0    97970.0  2.082019e+14   3.366345e+10  ...   \n",
       "149998  4/30/19 10:46   810.0    98249.0  2.082017e+14   3.362189e+10  ...   \n",
       "149999  4/30/19 10:40   327.0    97910.0  2.082021e+14   3.361962e+10  ...   \n",
       "150000        Unknown   500.0    86399.0  2.082015e+14   3.366371e+10  ...   \n",
       "\n",
       "        Email DL (Bytes) Total Email UL (Bytes) Total  \\\n",
       "149996               57639.000            633237.0000   \n",
       "149997             1954414.000            167304.0000   \n",
       "149998             1525734.000            532543.0000   \n",
       "149999             2228270.000            622644.0000   \n",
       "150000             1791728.868            467373.4419   \n",
       "\n",
       "        Youtube DL (Bytes) Total  Youtube UL (Bytes) Total  \\\n",
       "149996                16191667.0               11763428.00   \n",
       "149997                13877234.0                8288284.00   \n",
       "149998                22660510.0                1855903.00   \n",
       "149999                 8817106.0                8305402.00   \n",
       "150000                11634072.5               11009410.13   \n",
       "\n",
       "        Netflix DL (Bytes) Total  Netflix UL (Bytes) Total  \\\n",
       "149996               17883703.00               19678161.00   \n",
       "149997               19350146.00               21293148.00   \n",
       "149998                9963942.00                5065760.00   \n",
       "149999                3322253.00               13172589.00   \n",
       "150000               11626851.72               11001754.82   \n",
       "\n",
       "        Gaming DL (Bytes) Total  Gaming UL (Bytes) Total  \\\n",
       "149996              526609673.0             9.197207e+06   \n",
       "149997              626893062.0             4.735033e+06   \n",
       "149998              553539484.0             1.339432e+07   \n",
       "149999              352536971.0             2.529475e+06   \n",
       "150000              422044702.6             8.288398e+06   \n",
       "\n",
       "        Other DL (Bytes) Total  Other UL (Bytes) Total  \n",
       "149996               3264510.0            1.348742e+07  \n",
       "149997             712180387.0            2.457758e+06  \n",
       "149998             121100856.0            1.131473e+07  \n",
       "149999             814713113.0            1.406930e+06  \n",
       "150000             421100544.2            8.264799e+06  \n",
       "\n",
       "[5 rows x 72 columns]"
      ]
     },
     "execution_count": 10,
     "metadata": {},
     "output_type": "execute_result"
    }
   ],
   "source": [
    "featured_data.tail()"
   ]
  },
  {
   "cell_type": "code",
   "execution_count": 12,
   "id": "636517a6",
   "metadata": {},
   "outputs": [
    {
     "data": {
      "text/plain": [
       "(150001, 72)"
      ]
     },
     "execution_count": 12,
     "metadata": {},
     "output_type": "execute_result"
    }
   ],
   "source": [
    "featured_data.shape"
   ]
  },
  {
   "cell_type": "markdown",
   "id": "3d0da3d7",
   "metadata": {},
   "source": [
    "# Calculate average TCP retransmission, RTT, and throughput:"
   ]
  },
  {
   "cell_type": "code",
   "execution_count": 15,
   "id": "9851f77a",
   "metadata": {},
   "outputs": [],
   "source": [
    "featured_data['Avg TCP Retrans. Vol (Bytes)'] = (featured_data['TCP DL Retrans. Vol (Bytes)'] +\n",
    "                                      featured_data['TCP UL Retrans. Vol (Bytes)']) / 2"
   ]
  },
  {
   "cell_type": "code",
   "execution_count": 17,
   "id": "ceb849a5",
   "metadata": {},
   "outputs": [
    {
     "data": {
      "text/plain": [
       "0         294839.75\n",
       "1         294839.75\n",
       "2         294839.75\n",
       "3         294839.75\n",
       "4         294839.75\n",
       "            ...    \n",
       "149996    294839.75\n",
       "149997    294839.75\n",
       "149998    294839.75\n",
       "149999    294839.75\n",
       "150000    294839.75\n",
       "Name: Avg TCP Retrans. Vol (Bytes), Length: 150001, dtype: float64"
      ]
     },
     "execution_count": 17,
     "metadata": {},
     "output_type": "execute_result"
    }
   ],
   "source": [
    "featured_data['Avg TCP Retrans. Vol (Bytes)']"
   ]
  },
  {
   "cell_type": "code",
   "execution_count": 19,
   "id": "709fcb99",
   "metadata": {},
   "outputs": [],
   "source": [
    "featured_data['Avg RTT (ms)'] = (featured_data['Avg RTT DL (ms)'] + featured_data['Avg RTT UL (ms)']) / 2"
   ]
  },
  {
   "cell_type": "code",
   "execution_count": 21,
   "id": "93d56e5c",
   "metadata": {},
   "outputs": [
    {
     "data": {
      "text/plain": [
       "0         23.5\n",
       "1         35.0\n",
       "2         25.0\n",
       "3         25.0\n",
       "4         25.0\n",
       "          ... \n",
       "149996    16.0\n",
       "149997    14.5\n",
       "149998    24.5\n",
       "149999    21.0\n",
       "150000    25.0\n",
       "Name: Avg RTT (ms), Length: 150001, dtype: float64"
      ]
     },
     "execution_count": 21,
     "metadata": {},
     "output_type": "execute_result"
    }
   ],
   "source": [
    "featured_data['Avg RTT (ms)']"
   ]
  },
  {
   "cell_type": "code",
   "execution_count": 23,
   "id": "26c3272f",
   "metadata": {},
   "outputs": [],
   "source": [
    "featured_data['Avg Throughput (kbps)'] = (featured_data['Avg Bearer TP DL (kbps)'] + featured_data['Avg Bearer TP UL (kbps)']) / 2"
   ]
  },
  {
   "cell_type": "code",
   "execution_count": 25,
   "id": "5cd21100",
   "metadata": {},
   "outputs": [
    {
     "data": {
      "text/plain": [
       "0         33.5\n",
       "1         21.0\n",
       "2          7.5\n",
       "3         44.0\n",
       "4          7.5\n",
       "          ... \n",
       "149996    58.5\n",
       "149997    38.5\n",
       "149998    45.0\n",
       "149999    35.5\n",
       "150000    63.0\n",
       "Name: Avg Throughput (kbps), Length: 150001, dtype: float64"
      ]
     },
     "execution_count": 25,
     "metadata": {},
     "output_type": "execute_result"
    }
   ],
   "source": [
    "featured_data['Avg Throughput (kbps)']"
   ]
  },
  {
   "cell_type": "markdown",
   "id": "a66ae3f4",
   "metadata": {},
   "source": [
    "# ◆ Select relevant features for clustering:"
   ]
  },
  {
   "cell_type": "code",
   "execution_count": 28,
   "id": "961c460a",
   "metadata": {},
   "outputs": [],
   "source": [
    "features = featured_data[['Avg TCP Retrans. Vol (Bytes)', 'Avg RTT (ms)', 'Avg Throughput (kbps)']]"
   ]
  },
  {
   "cell_type": "markdown",
   "id": "0ebfb008",
   "metadata": {},
   "source": [
    "# Standardize the data:"
   ]
  },
  {
   "cell_type": "code",
   "execution_count": 31,
   "id": "e11252f9",
   "metadata": {},
   "outputs": [],
   "source": [
    "scaler = StandardScaler()\n",
    "features_scaled = scaler.fit_transform(features)"
   ]
  },
  {
   "cell_type": "markdown",
   "id": "3560cd51",
   "metadata": {},
   "source": [
    "# Perform k-means clustering for Engagement:"
   ]
  },
  {
   "cell_type": "code",
   "execution_count": 34,
   "id": "dc48e7b9",
   "metadata": {},
   "outputs": [],
   "source": [
    "kmeans_engagement = KMeans(n_clusters=3, random_state=42)\n",
    "engagement_clusters = kmeans_engagement.fit_predict(features_scaled)\n",
    "featured_data['Engagement Cluster'] = engagement_clusters"
   ]
  },
  {
   "cell_type": "markdown",
   "id": "f0be85ec",
   "metadata": {},
   "source": [
    "# Perform k-means clustering for Experience:"
   ]
  },
  {
   "cell_type": "code",
   "execution_count": 37,
   "id": "084e3f1a",
   "metadata": {},
   "outputs": [],
   "source": [
    "kmeans_experience = KMeans(n_clusters=3, random_state=42)\n",
    "experience_clusters = kmeans_experience.fit_predict(features_scaled)\n",
    "featured_data['Experience Cluster'] = experience_clusters"
   ]
  },
  {
   "cell_type": "markdown",
   "id": "4019131b",
   "metadata": {},
   "source": [
    "# Calculate the Euclidean distance for Engagement score:"
   ]
  },
  {
   "cell_type": "code",
   "execution_count": 40,
   "id": "7d1730ea",
   "metadata": {},
   "outputs": [],
   "source": [
    "less_engaged_centroid = kmeans_engagement.cluster_centers_[0]\n",
    "featured_data['Engagement Score'] = cdist(features_scaled, [less_engaged_centroid], metric='euclidean')"
   ]
  },
  {
   "cell_type": "code",
   "execution_count": 42,
   "id": "34c88f0b",
   "metadata": {},
   "outputs": [
    {
     "data": {
      "text/plain": [
       "0         0.195454\n",
       "1         0.174413\n",
       "2         0.193815\n",
       "3         0.191628\n",
       "4         0.193815\n",
       "            ...   \n",
       "149996    0.211362\n",
       "149997    0.216120\n",
       "149998    0.192628\n",
       "149999    0.200868\n",
       "150000    0.190495\n",
       "Name: Engagement Score, Length: 150001, dtype: float64"
      ]
     },
     "execution_count": 42,
     "metadata": {},
     "output_type": "execute_result"
    }
   ],
   "source": [
    "featured_data['Engagement Score']"
   ]
  },
  {
   "cell_type": "markdown",
   "id": "4c8f3ade",
   "metadata": {},
   "source": [
    "# Calculate the Euclidean distance for Experience score:"
   ]
  },
  {
   "cell_type": "code",
   "execution_count": 45,
   "id": "c6100586",
   "metadata": {},
   "outputs": [],
   "source": [
    "worst_experience_centroid = kmeans_experience.cluster_centers_[2]\n",
    "featured_data['Experience Score'] = cdist(features_scaled, [worst_experience_centroid], metric='euclidean')"
   ]
  },
  {
   "cell_type": "code",
   "execution_count": 47,
   "id": "cd3c3c65",
   "metadata": {},
   "outputs": [
    {
     "data": {
      "text/plain": [
       "0         2.318006\n",
       "1         2.317472\n",
       "2         2.319707\n",
       "3         2.316994\n",
       "4         2.319707\n",
       "            ...   \n",
       "149996    2.317487\n",
       "149997    2.319277\n",
       "149998    2.316996\n",
       "149999    2.318270\n",
       "150000    2.315582\n",
       "Name: Experience Score, Length: 150001, dtype: float64"
      ]
     },
     "execution_count": 47,
     "metadata": {},
     "output_type": "execute_result"
    }
   ],
   "source": [
    "featured_data['Experience Score']"
   ]
  },
  {
   "cell_type": "markdown",
   "id": "2cc3de1e",
   "metadata": {},
   "source": [
    "# Calculate the satisfaction score as the average of Engagement & Experience scores:"
   ]
  },
  {
   "cell_type": "code",
   "execution_count": 50,
   "id": "15026e6f",
   "metadata": {},
   "outputs": [],
   "source": [
    "featured_data['Satisfaction Score'] = (featured_data['Engagement Score'] + featured_data['Experience Score']) / 2"
   ]
  },
  {
   "cell_type": "code",
   "execution_count": 52,
   "id": "47b34830",
   "metadata": {},
   "outputs": [
    {
     "data": {
      "text/plain": [
       "0         1.256730\n",
       "1         1.245942\n",
       "2         1.256761\n",
       "3         1.254311\n",
       "4         1.256761\n",
       "            ...   \n",
       "149996    1.264425\n",
       "149997    1.267698\n",
       "149998    1.254812\n",
       "149999    1.259569\n",
       "150000    1.253039\n",
       "Name: Satisfaction Score, Length: 150001, dtype: float64"
      ]
     },
     "execution_count": 52,
     "metadata": {},
     "output_type": "execute_result"
    }
   ],
   "source": [
    "featured_data['Satisfaction Score']"
   ]
  },
  {
   "cell_type": "markdown",
   "id": "bb671bed",
   "metadata": {},
   "source": [
    "# Report the top 10 satisfied Customers:"
   ]
  },
  {
   "cell_type": "code",
   "execution_count": 55,
   "id": "c7bf3e33",
   "metadata": {},
   "outputs": [],
   "source": [
    "top_10_satisfied_customers = featured_data.nsmallest(10, 'Satisfaction Score')"
   ]
  },
  {
   "cell_type": "markdown",
   "id": "dba8dbc9",
   "metadata": {},
   "source": [
    "# ◆ Show the top 10 satisfied customers:"
   ]
  },
  {
   "cell_type": "code",
   "execution_count": 58,
   "id": "c0fd2d07",
   "metadata": {},
   "outputs": [
    {
     "name": "stdout",
     "output_type": "stream",
     "text": [
      "        Engagement Score  Experience Score  Satisfaction Score\n",
      "3803            0.645366          1.515799            1.080582\n",
      "117910          0.619941          1.541225            1.080583\n",
      "137193          1.447365          0.713802            1.080583\n",
      "77992           0.730120          1.431047            1.080583\n",
      "76783           0.769380          1.391790            1.080585\n",
      "24001           0.430901          1.730271            1.080586\n",
      "1172            0.695187          1.465986            1.080587\n",
      "2379            0.428509          1.732667            1.080588\n",
      "77526           0.654626          1.506552            1.080589\n",
      "112497          0.626012          1.535168            1.080590\n"
     ]
    }
   ],
   "source": [
    "print(top_10_satisfied_customers[['Engagement Score', 'Experience Score', 'Satisfaction Score']])"
   ]
  },
  {
   "cell_type": "markdown",
   "id": "46f3b16d",
   "metadata": {},
   "source": [
    "# ◆ Preparation of Data:"
   ]
  },
  {
   "cell_type": "code",
   "execution_count": 61,
   "id": "a668566a",
   "metadata": {},
   "outputs": [],
   "source": [
    "from sklearn.model_selection import train_test_split\n",
    "from sklearn.linear_model import LinearRegression\n",
    "from sklearn.metrics import mean_absolute_error, mean_squared_error, r2_score"
   ]
  },
  {
   "cell_type": "markdown",
   "id": "bb23b104",
   "metadata": {},
   "source": [
    "# • Prepare the features and target:"
   ]
  },
  {
   "cell_type": "code",
   "execution_count": 64,
   "id": "01272297",
   "metadata": {},
   "outputs": [],
   "source": [
    "X = np.asanyarray(featured_data[['Avg TCP Retrans. Vol (Bytes)', 'Avg RTT (ms)', 'Avg Throughput (kbps)']])\n",
    "y = np.asanyarray(featured_data['Satisfaction Score'])"
   ]
  },
  {
   "cell_type": "code",
   "execution_count": 66,
   "id": "bc8b81c5",
   "metadata": {},
   "outputs": [
    {
     "data": {
      "text/plain": [
       "(150001, 3)"
      ]
     },
     "execution_count": 66,
     "metadata": {},
     "output_type": "execute_result"
    }
   ],
   "source": [
    "X.shape"
   ]
  },
  {
   "cell_type": "code",
   "execution_count": 68,
   "id": "b0c2db33",
   "metadata": {},
   "outputs": [
    {
     "data": {
      "text/plain": [
       "(150001,)"
      ]
     },
     "execution_count": 68,
     "metadata": {},
     "output_type": "execute_result"
    }
   ],
   "source": [
    "y.shape"
   ]
  },
  {
   "cell_type": "code",
   "execution_count": 70,
   "id": "f94b7b17",
   "metadata": {},
   "outputs": [],
   "source": [
    "# Split the data into training and testing sets\n",
    "X_train, X_test, y_train, y_test = train_test_split(X, y, test_size=0.2, random_state=42)"
   ]
  },
  {
   "cell_type": "markdown",
   "id": "d6f58c2f",
   "metadata": {},
   "source": [
    "# ◆ Initialize and train the linear_regression_model:"
   ]
  },
  {
   "cell_type": "code",
   "execution_count": 73,
   "id": "def30a36",
   "metadata": {},
   "outputs": [],
   "source": [
    "model = LinearRegression()\n",
    "model.fit(X_train, y_train)\n",
    "y_pred = model.predict(X_test)"
   ]
  },
  {
   "cell_type": "code",
   "execution_count": 75,
   "id": "7edaa4e7",
   "metadata": {},
   "outputs": [],
   "source": [
    "r2_score = r2_score(y_test, y_pred)"
   ]
  },
  {
   "cell_type": "code",
   "execution_count": 77,
   "id": "10fdb050",
   "metadata": {},
   "outputs": [
    {
     "data": {
      "text/plain": [
       "0.9268559732925539"
      ]
     },
     "execution_count": 77,
     "metadata": {},
     "output_type": "execute_result"
    }
   ],
   "source": [
    "r2_score"
   ]
  },
  {
   "cell_type": "code",
   "execution_count": 79,
   "id": "e4bdf912",
   "metadata": {},
   "outputs": [],
   "source": [
    "mae = mean_absolute_error(y_test, y_pred)\n",
    "mse = mean_squared_error(y_test, y_pred)\n",
    "rmse = np.sqrt(mse)"
   ]
  },
  {
   "cell_type": "code",
   "execution_count": 81,
   "id": "8fb0bdcb",
   "metadata": {},
   "outputs": [
    {
     "data": {
      "text/plain": [
       "0.24507451149179582"
      ]
     },
     "execution_count": 81,
     "metadata": {},
     "output_type": "execute_result"
    }
   ],
   "source": [
    "mae"
   ]
  },
  {
   "cell_type": "code",
   "execution_count": 83,
   "id": "69151703",
   "metadata": {},
   "outputs": [
    {
     "data": {
      "text/plain": [
       "0.1347998840375571"
      ]
     },
     "execution_count": 83,
     "metadata": {},
     "output_type": "execute_result"
    }
   ],
   "source": [
    "mse"
   ]
  },
  {
   "cell_type": "code",
   "execution_count": 85,
   "id": "51d00856",
   "metadata": {},
   "outputs": [
    {
     "data": {
      "text/plain": [
       "0.36715103709176294"
      ]
     },
     "execution_count": 85,
     "metadata": {},
     "output_type": "execute_result"
    }
   ],
   "source": [
    "rmse"
   ]
  },
  {
   "cell_type": "code",
   "execution_count": 87,
   "id": "e1cd728d",
   "metadata": {},
   "outputs": [
    {
     "name": "stdout",
     "output_type": "stream",
     "text": [
      "<class 'sklearn.linear_model._base.LinearRegression'>\n"
     ]
    }
   ],
   "source": [
    "import pickle \n",
    "pickle.dump(model,open('regression_model.pkl','wb'))\n",
    "print(type(model)) "
   ]
  },
  {
   "cell_type": "markdown",
   "id": "16629501",
   "metadata": {},
   "source": [
    "# Extract the Engagement and Experience scores:"
   ]
  },
  {
   "cell_type": "code",
   "execution_count": 90,
   "id": "05f646da",
   "metadata": {},
   "outputs": [],
   "source": [
    "scores = featured_data[['Engagement Score', 'Experience Score']]"
   ]
  },
  {
   "cell_type": "code",
   "execution_count": 92,
   "id": "173dd112",
   "metadata": {},
   "outputs": [],
   "source": [
    "kmeans = KMeans(n_clusters=2, random_state=42)\n",
    "featured_data['Score Cluster'] = kmeans.fit_predict(scores)"
   ]
  },
  {
   "cell_type": "code",
   "execution_count": 94,
   "id": "7e38e380",
   "metadata": {},
   "outputs": [],
   "source": [
    "centroids = kmeans.cluster_centers_"
   ]
  },
  {
   "cell_type": "code",
   "execution_count": 96,
   "id": "044f4b03",
   "metadata": {},
   "outputs": [
    {
     "data": {
      "text/plain": [
       "array([[ 0.68909856,  1.95593978],\n",
       "       [23.70481548, 23.53889333]])"
      ]
     },
     "execution_count": 96,
     "metadata": {},
     "output_type": "execute_result"
    }
   ],
   "source": [
    "centroids"
   ]
  },
  {
   "cell_type": "markdown",
   "id": "e55b9cd2",
   "metadata": {},
   "source": [
    "# Visualization of the clusters:"
   ]
  },
  {
   "cell_type": "code",
   "execution_count": 99,
   "id": "f6b96b7d",
   "metadata": {},
   "outputs": [
    {
     "data": {
      "image/png": "[encoded data removed]",
      "text/plain": [
       "<Figure size 1000x600 with 1 Axes>"
      ]
     },
     "metadata": {},
     "output_type": "display_data"
    }
   ],
   "source": [
    "plt.figure(figsize=(10, 6))\n",
    "plt.scatter(featured_data['Engagement Score'], featured_data['Experience Score'], c=featured_data['Score Cluster'], cmap='viridis', marker='o', s=50, alpha=0.6, edgecolor='w', label='Customers')\n",
    "plt.scatter(centroids[:, 0], centroids[:, 1], c='red', marker='x', s=200, linewidths=3, label='Centroids')\n",
    "plt.title('K-means Clustering of Engagement and Experience Scores (k=2)', color='red')\n",
    "plt.xlabel('Engagement Score', color='red')\n",
    "plt.ylabel('Experience Score', color='red')\n",
    "plt.legend()\n",
    "plt.grid(True)\n",
    "plt.show()"
   ]
  },
  {
   "cell_type": "code",
   "execution_count": 101,
   "id": "98871491",
   "metadata": {},
   "outputs": [
    {
     "name": "stdout",
     "output_type": "stream",
     "text": [
      "   Engagement Score  Experience Score\n",
      "0          0.689099          1.955940\n",
      "1         23.704815         23.538893\n"
     ]
    }
   ],
   "source": [
    "print(pd.DataFrame(centroids, columns=['Engagement Score', 'Experience Score']))"
   ]
  },
  {
   "cell_type": "markdown",
   "id": "215255bb",
   "metadata": {},
   "source": [
    "# Aggregate the average satisfaction and experience score per cluster:"
   ]
  },
  {
   "cell_type": "code",
   "execution_count": 104,
   "id": "3bb64701",
   "metadata": {},
   "outputs": [],
   "source": [
    "featured_data['Satisfaction Score'] = (featured_data['Engagement Score'] + featured_data['Experience Score']) / 2"
   ]
  },
  {
   "cell_type": "code",
   "execution_count": 106,
   "id": "302983df",
   "metadata": {},
   "outputs": [],
   "source": [
    "cluster_aggregation = featured_data.groupby('Score Cluster').agg({\n",
    "    'Satisfaction Score': 'mean',\n",
    "    'Experience Score': 'mean'\n",
    "}).reset_index()"
   ]
  },
  {
   "cell_type": "code",
   "execution_count": 108,
   "id": "2aa68bb0",
   "metadata": {},
   "outputs": [
    {
     "data": {
      "text/html": [
       "<div>\n",
       "<style scoped>\n",
       "    .dataframe tbody tr th:only-of-type {\n",
       "        vertical-align: middle;\n",
       "    }\n",
       "\n",
       "    .dataframe tbody tr th {\n",
       "        vertical-align: top;\n",
       "    }\n",
       "\n",
       "    .dataframe thead th {\n",
       "        text-align: right;\n",
       "    }\n",
       "</style>\n",
       "<table border=\"1\" class=\"dataframe\">\n",
       "  <thead>\n",
       "    <tr style=\"text-align: right;\">\n",
       "      <th></th>\n",
       "      <th>Score Cluster</th>\n",
       "      <th>Satisfaction Score</th>\n",
       "      <th>Experience Score</th>\n",
       "    </tr>\n",
       "  </thead>\n",
       "  <tbody>\n",
       "    <tr>\n",
       "      <th>0</th>\n",
       "      <td>0</td>\n",
       "      <td>1.322519</td>\n",
       "      <td>1.955940</td>\n",
       "    </tr>\n",
       "    <tr>\n",
       "      <th>1</th>\n",
       "      <td>1</td>\n",
       "      <td>23.621854</td>\n",
       "      <td>23.538893</td>\n",
       "    </tr>\n",
       "  </tbody>\n",
       "</table>\n",
       "</div>"
      ],
      "text/plain": [
       "   Score Cluster  Satisfaction Score  Experience Score\n",
       "0              0            1.322519          1.955940\n",
       "1              1           23.621854         23.538893"
      ]
     },
     "execution_count": 108,
     "metadata": {},
     "output_type": "execute_result"
    }
   ],
   "source": [
    "cluster_aggregation"
   ]
  },
  {
   "cell_type": "code",
   "execution_count": 110,
   "id": "753cf46d",
   "metadata": {},
   "outputs": [],
   "source": [
    "Mysql_Data=pd.DataFrame(featured_data,columns=['Bearer Id','Engagement Score', 'Experience Score','Satisfaction Score'])"
   ]
  },
  {
   "cell_type": "code",
   "execution_count": 112,
   "id": "08d77fcc",
   "metadata": {},
   "outputs": [
    {
     "data": {
      "text/html": [
       "<div>\n",
       "<style scoped>\n",
       "    .dataframe tbody tr th:only-of-type {\n",
       "        vertical-align: middle;\n",
       "    }\n",
       "\n",
       "    .dataframe tbody tr th {\n",
       "        vertical-align: top;\n",
       "    }\n",
       "\n",
       "    .dataframe thead th {\n",
       "        text-align: right;\n",
       "    }\n",
       "</style>\n",
       "<table border=\"1\" class=\"dataframe\">\n",
       "  <thead>\n",
       "    <tr style=\"text-align: right;\">\n",
       "      <th></th>\n",
       "      <th>Bearer Id</th>\n",
       "      <th>Engagement Score</th>\n",
       "      <th>Experience Score</th>\n",
       "      <th>Satisfaction Score</th>\n",
       "    </tr>\n",
       "  </thead>\n",
       "  <tbody>\n",
       "    <tr>\n",
       "      <th>92260</th>\n",
       "      <td>1.304240e+19</td>\n",
       "      <td>1.450185</td>\n",
       "      <td>0.731832</td>\n",
       "      <td>1.091008</td>\n",
       "    </tr>\n",
       "    <tr>\n",
       "      <th>94370</th>\n",
       "      <td>7.349880e+18</td>\n",
       "      <td>0.225819</td>\n",
       "      <td>2.319515</td>\n",
       "      <td>1.272667</td>\n",
       "    </tr>\n",
       "    <tr>\n",
       "      <th>107696</th>\n",
       "      <td>7.349880e+18</td>\n",
       "      <td>0.191598</td>\n",
       "      <td>2.316957</td>\n",
       "      <td>1.254278</td>\n",
       "    </tr>\n",
       "    <tr>\n",
       "      <th>106335</th>\n",
       "      <td>7.349880e+18</td>\n",
       "      <td>0.193815</td>\n",
       "      <td>2.319707</td>\n",
       "      <td>1.256761</td>\n",
       "    </tr>\n",
       "    <tr>\n",
       "      <th>41569</th>\n",
       "      <td>1.304240e+19</td>\n",
       "      <td>0.705103</td>\n",
       "      <td>1.462096</td>\n",
       "      <td>1.083599</td>\n",
       "    </tr>\n",
       "  </tbody>\n",
       "</table>\n",
       "</div>"
      ],
      "text/plain": [
       "           Bearer Id  Engagement Score  Experience Score  Satisfaction Score\n",
       "92260   1.304240e+19          1.450185          0.731832            1.091008\n",
       "94370   7.349880e+18          0.225819          2.319515            1.272667\n",
       "107696  7.349880e+18          0.191598          2.316957            1.254278\n",
       "106335  7.349880e+18          0.193815          2.319707            1.256761\n",
       "41569   1.304240e+19          0.705103          1.462096            1.083599"
      ]
     },
     "execution_count": 112,
     "metadata": {},
     "output_type": "execute_result"
    }
   ],
   "source": [
    "Mysql_Data.sample(5)"
   ]
  },
  {
   "cell_type": "code",
   "execution_count": 114,
   "id": "0ea8a221",
   "metadata": {},
   "outputs": [
    {
     "data": {
      "text/plain": [
       "Bearer Id             0\n",
       "Engagement Score      0\n",
       "Experience Score      0\n",
       "Satisfaction Score    0\n",
       "dtype: int64"
      ]
     },
     "execution_count": 114,
     "metadata": {},
     "output_type": "execute_result"
    }
   ],
   "source": [
    "Mysql_Data.isnull().sum()"
   ]
  },
  {
   "cell_type": "markdown",
   "id": "dd776bab",
   "metadata": {},
   "source": [
    "# ◆ Connect with Mysql database:"
   ]
  },
  {
   "cell_type": "code",
   "execution_count": 117,
   "id": "1fe1975b",
   "metadata": {
    "scrolled": true
   },
   "outputs": [
    {
     "ename": "ModuleNotFoundError",
     "evalue": "No module named 'mysql'",
     "output_type": "error",
     "traceback": [
      "\u001b[1;31m---------------------------------------------------------------------------\u001b[0m",
      "\u001b[1;31mModuleNotFoundError\u001b[0m                       Traceback (most recent call last)",
      "Cell \u001b[1;32mIn[117], line 2\u001b[0m\n\u001b[0;32m      1\u001b[0m \u001b[38;5;28;01mfrom\u001b[39;00m \u001b[38;5;21;01mpandas\u001b[39;00m\u001b[38;5;21;01m.\u001b[39;00m\u001b[38;5;21;01mio\u001b[39;00m \u001b[38;5;28;01mimport\u001b[39;00m sql\n\u001b[1;32m----> 2\u001b[0m \u001b[38;5;28;01mimport\u001b[39;00m \u001b[38;5;21;01mmysql\u001b[39;00m\u001b[38;5;21;01m.\u001b[39;00m\u001b[38;5;21;01mconnector\u001b[39;00m\n\u001b[0;32m      3\u001b[0m \u001b[38;5;28;01mimport\u001b[39;00m \u001b[38;5;21;01mpymysql\u001b[39;00m\n\u001b[0;32m      4\u001b[0m \u001b[38;5;28;01mimport\u001b[39;00m \u001b[38;5;21;01mMySQLdb\u001b[39;00m\n",
      "\u001b[1;31mModuleNotFoundError\u001b[0m: No module named 'mysql'"
     ]
    }
   ],
   "source": [
    "from pandas.io import sql\n",
    "import mysql.connector\n",
    "import pymysql\n",
    "import MySQLdb\n",
    "from sqlalchemy import create_engine"
   ]
  },
  {
   "cell_type": "code",
   "execution_count": 119,
   "id": "2c91b607",
   "metadata": {},
   "outputs": [],
   "source": [
    "# Database credentials and connection\n",
    "db_username = 'root'\n",
    "db_password = '8686'\n",
    "db_host = 'localhost'\n",
    "db_port = 3306\n",
    "db_name = 'telecom_project'"
   ]
  },
  {
   "cell_type": "code",
   "execution_count": 121,
   "id": "ab55c3ed",
   "metadata": {},
   "outputs": [
    {
     "ename": "NameError",
     "evalue": "name 'create_engine' is not defined",
     "output_type": "error",
     "traceback": [
      "\u001b[1;31m---------------------------------------------------------------------------\u001b[0m",
      "\u001b[1;31mNameError\u001b[0m                                 Traceback (most recent call last)",
      "Cell \u001b[1;32mIn[121], line 1\u001b[0m\n\u001b[1;32m----> 1\u001b[0m engine \u001b[38;5;241m=\u001b[39m create_engine(\u001b[38;5;124mf\u001b[39m\u001b[38;5;124m\"\u001b[39m\u001b[38;5;124mmysql+mysqlconnector://\u001b[39m\u001b[38;5;132;01m{\u001b[39;00mdb_username\u001b[38;5;132;01m}\u001b[39;00m\u001b[38;5;124m:\u001b[39m\u001b[38;5;132;01m{\u001b[39;00mdb_password\u001b[38;5;132;01m}\u001b[39;00m\u001b[38;5;124m@\u001b[39m\u001b[38;5;132;01m{\u001b[39;00mdb_host\u001b[38;5;132;01m}\u001b[39;00m\u001b[38;5;124m:\u001b[39m\u001b[38;5;132;01m{\u001b[39;00mdb_port\u001b[38;5;132;01m}\u001b[39;00m\u001b[38;5;124m/\u001b[39m\u001b[38;5;132;01m{\u001b[39;00mdb_name\u001b[38;5;132;01m}\u001b[39;00m\u001b[38;5;124m\"\u001b[39m)\n",
      "\u001b[1;31mNameError\u001b[0m: name 'create_engine' is not defined"
     ]
    }
   ],
   "source": [
    "engine = create_engine(f\"mysql+mysqlconnector://{db_username}:{db_password}@{db_host}:{db_port}/{db_name}\")"
   ]
  },
  {
   "cell_type": "code",
   "execution_count": 123,
   "id": "016b60f2",
   "metadata": {},
   "outputs": [
    {
     "ename": "NameError",
     "evalue": "name 'engine' is not defined",
     "output_type": "error",
     "traceback": [
      "\u001b[1;31m---------------------------------------------------------------------------\u001b[0m",
      "\u001b[1;31mNameError\u001b[0m                                 Traceback (most recent call last)",
      "Cell \u001b[1;32mIn[123], line 1\u001b[0m\n\u001b[1;32m----> 1\u001b[0m Mysql_Data\u001b[38;5;241m.\u001b[39mto_sql(name\u001b[38;5;241m=\u001b[39m\u001b[38;5;124m'\u001b[39m\u001b[38;5;124mfinal_telecom_table\u001b[39m\u001b[38;5;124m'\u001b[39m, con\u001b[38;5;241m=\u001b[39mengine, if_exists\u001b[38;5;241m=\u001b[39m\u001b[38;5;124m'\u001b[39m\u001b[38;5;124mreplace\u001b[39m\u001b[38;5;124m'\u001b[39m, index\u001b[38;5;241m=\u001b[39m\u001b[38;5;28;01mFalse\u001b[39;00m)\n",
      "\u001b[1;31mNameError\u001b[0m: name 'engine' is not defined"
     ]
    }
   ],
   "source": [
    "Mysql_Data.to_sql(name='final_telecom_table', con=engine, if_exists='replace', index=False)"
   ]
  },
  {
   "cell_type": "code",
   "execution_count": 125,
   "id": "ce7859f3",
   "metadata": {},
   "outputs": [
    {
     "ename": "NameError",
     "evalue": "name 'engine' is not defined",
     "output_type": "error",
     "traceback": [
      "\u001b[1;31m---------------------------------------------------------------------------\u001b[0m",
      "\u001b[1;31mNameError\u001b[0m                                 Traceback (most recent call last)",
      "Cell \u001b[1;32mIn[125], line 2\u001b[0m\n\u001b[0;32m      1\u001b[0m query \u001b[38;5;241m=\u001b[39m \u001b[38;5;124m\"\u001b[39m\u001b[38;5;124mSELECT * FROM final_telecom_table LIMIT 10;\u001b[39m\u001b[38;5;124m\"\u001b[39m\n\u001b[1;32m----> 2\u001b[0m data_from_db \u001b[38;5;241m=\u001b[39m pd\u001b[38;5;241m.\u001b[39mread_sql(query, con\u001b[38;5;241m=\u001b[39mengine)\n\u001b[0;32m      3\u001b[0m \u001b[38;5;28mprint\u001b[39m(data_from_db)\n",
      "\u001b[1;31mNameError\u001b[0m: name 'engine' is not defined"
     ]
    }
   ],
   "source": [
    "query = \"SELECT * FROM final_telecom_table LIMIT 10;\"\n",
    "data_from_db = pd.read_sql(query, con=engine)\n",
    "print(data_from_db)"
   ]
  },
  {
   "cell_type": "code",
   "execution_count": 127,
   "id": "aec3d093",
   "metadata": {},
   "outputs": [
    {
     "ename": "SyntaxError",
     "evalue": "unterminated string literal (detected at line 1) (587508315.py, line 1)",
     "output_type": "error",
     "traceback": [
      "\u001b[1;36m  Cell \u001b[1;32mIn[127], line 1\u001b[1;36m\u001b[0m\n\u001b[1;33m    Mysql_Data.to_csv('Final_telecom_Data.csv\")\u001b[0m\n\u001b[1;37m                      ^\u001b[0m\n\u001b[1;31mSyntaxError\u001b[0m\u001b[1;31m:\u001b[0m unterminated string literal (detected at line 1)\n"
     ]
    }
   ],
   "source": [
    "Mysql_Data.to_csv('Final_telecom_Data.csv\")"
   ]
  },
  {
   "cell_type": "code",
   "execution_count": null,
   "id": "dd98532b",
   "metadata": {},
   "outputs": [],
   "source": []
  }
 ],
 "metadata": {
  "kernelspec": {
   "display_name": "Python [conda env:base] *",
   "language": "python",
   "name": "conda-base-py"
  },
  "language_info": {
   "codemirror_mode": {
    "name": "ipython",
    "version": 3
   },
   "file_extension": ".py",
   "mimetype": "text/x-python",
   "name": "python",
   "nbconvert_exporter": "python",
   "pygments_lexer": "ipython3",
   "version": "3.12.4"
  }
 },
 "nbformat": 4,
 "nbformat_minor": 5
}
